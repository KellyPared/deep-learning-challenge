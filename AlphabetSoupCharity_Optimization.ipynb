{
  "nbformat": 4,
  "nbformat_minor": 0,
  "metadata": {
    "colab": {
      "provenance": [],
      "authorship_tag": "ABX9TyPpy4KMwTZ9HclvExXzIST8",
      "include_colab_link": true
    },
    "kernelspec": {
      "name": "python3",
      "display_name": "Python 3"
    },
    "language_info": {
      "name": "python"
    }
  },
  "cells": [
    {
      "cell_type": "markdown",
      "metadata": {
        "id": "view-in-github",
        "colab_type": "text"
      },
      "source": [
        "<a href=\"https://colab.research.google.com/github/KellyPared/deep-learning-challenge/blob/main/AlphabetSoupCharity_Optimization.ipynb\" target=\"_parent\"><img src=\"https://colab.research.google.com/assets/colab-badge.svg\" alt=\"Open In Colab\"/></a>"
      ]
    },
    {
      "cell_type": "code",
      "execution_count": 6,
      "metadata": {
        "id": "6d6gJfyjMgFa"
      },
      "outputs": [],
      "source": [
        "# Import our dependencies\n",
        "\n",
        "from sklearn.model_selection import train_test_split\n",
        "from sklearn.preprocessing import StandardScaler,OneHotEncoder\n",
        "from sklearn.linear_model import LogisticRegression\n",
        "from sklearn.preprocessing import LabelEncoder\n",
        "\n",
        "import pandas as pd\n",
        "import tensorflow as tf\n",
        "from tensorflow import keras\n",
        "import pandas as pd \n",
        "import numpy as np\n",
        "from tensorflow import keras\n",
        "from tensorflow.keras import layers"
      ]
    },
    {
      "cell_type": "code",
      "source": [
        "#Import and read the charity_data.csv.\n",
        "df = pd.read_csv(\"https://static.bc-edx.com/data/dl-1-2/m21/lms/starter/charity_data.csv\")\n",
        "#df.head()\n",
        "copy_df = df.copy()\n",
        "num_rows = len(df)\n",
        "num_rows\n"
      ],
      "metadata": {
        "colab": {
          "base_uri": "https://localhost:8080/"
        },
        "id": "o0OMlJarMpRt",
        "outputId": "495d9bd2-c4cc-4bb1-b7ac-d6c90a9ce231"
      },
      "execution_count": 39,
      "outputs": [
        {
          "output_type": "execute_result",
          "data": {
            "text/plain": [
              "34299"
            ]
          },
          "metadata": {},
          "execution_count": 39
        }
      ]
    },
    {
      "cell_type": "code",
      "source": [
        "copy_df.columns"
      ],
      "metadata": {
        "colab": {
          "base_uri": "https://localhost:8080/"
        },
        "id": "1WeSrXW3svDk",
        "outputId": "f6c6b191-b68a-4141-bd05-908c85ec6e36"
      },
      "execution_count": 21,
      "outputs": [
        {
          "output_type": "execute_result",
          "data": {
            "text/plain": [
              "Index(['EIN', 'NAME', 'APPLICATION_TYPE', 'AFFILIATION', 'CLASSIFICATION',\n",
              "       'USE_CASE', 'ORGANIZATION', 'STATUS', 'INCOME_AMT',\n",
              "       'SPECIAL_CONSIDERATIONS', 'ASK_AMT', 'IS_SUCCESSFUL'],\n",
              "      dtype='object')"
            ]
          },
          "metadata": {},
          "execution_count": 21
        }
      ]
    },
    {
      "cell_type": "code",
      "source": [
        "# drop the index column\n",
        "copy_df = copy_df.reset_index(drop=True)"
      ],
      "metadata": {
        "id": "fA3dqa5M_mUz"
      },
      "execution_count": 17,
      "outputs": []
    },
    {
      "cell_type": "code",
      "source": [
        "copy_df= copy_df.drop(['EIN', 'NAME'], axis=1)"
      ],
      "metadata": {
        "id": "wqtbuU-SsnyL"
      },
      "execution_count": 24,
      "outputs": []
    },
    {
      "cell_type": "code",
      "source": [
        "copy_df.describe()"
      ],
      "metadata": {
        "id": "PXNFOWcutKTv",
        "colab": {
          "base_uri": "https://localhost:8080/",
          "height": 300
        },
        "outputId": "22204213-d05c-46df-f7fb-981507d129af"
      },
      "execution_count": 25,
      "outputs": [
        {
          "output_type": "execute_result",
          "data": {
            "text/plain": [
              "             STATUS       ASK_AMT  IS_SUCCESSFUL\n",
              "count  34299.000000  3.429900e+04   34299.000000\n",
              "mean       0.999854  2.769199e+06       0.532406\n",
              "std        0.012073  8.713045e+07       0.498956\n",
              "min        0.000000  5.000000e+03       0.000000\n",
              "25%        1.000000  5.000000e+03       0.000000\n",
              "50%        1.000000  5.000000e+03       1.000000\n",
              "75%        1.000000  7.742000e+03       1.000000\n",
              "max        1.000000  8.597806e+09       1.000000"
            ],
            "text/html": [
              "\n",
              "  <div id=\"df-82de546a-85f1-490e-ac54-b794f74c84d9\">\n",
              "    <div class=\"colab-df-container\">\n",
              "      <div>\n",
              "<style scoped>\n",
              "    .dataframe tbody tr th:only-of-type {\n",
              "        vertical-align: middle;\n",
              "    }\n",
              "\n",
              "    .dataframe tbody tr th {\n",
              "        vertical-align: top;\n",
              "    }\n",
              "\n",
              "    .dataframe thead th {\n",
              "        text-align: right;\n",
              "    }\n",
              "</style>\n",
              "<table border=\"1\" class=\"dataframe\">\n",
              "  <thead>\n",
              "    <tr style=\"text-align: right;\">\n",
              "      <th></th>\n",
              "      <th>STATUS</th>\n",
              "      <th>ASK_AMT</th>\n",
              "      <th>IS_SUCCESSFUL</th>\n",
              "    </tr>\n",
              "  </thead>\n",
              "  <tbody>\n",
              "    <tr>\n",
              "      <th>count</th>\n",
              "      <td>34299.000000</td>\n",
              "      <td>3.429900e+04</td>\n",
              "      <td>34299.000000</td>\n",
              "    </tr>\n",
              "    <tr>\n",
              "      <th>mean</th>\n",
              "      <td>0.999854</td>\n",
              "      <td>2.769199e+06</td>\n",
              "      <td>0.532406</td>\n",
              "    </tr>\n",
              "    <tr>\n",
              "      <th>std</th>\n",
              "      <td>0.012073</td>\n",
              "      <td>8.713045e+07</td>\n",
              "      <td>0.498956</td>\n",
              "    </tr>\n",
              "    <tr>\n",
              "      <th>min</th>\n",
              "      <td>0.000000</td>\n",
              "      <td>5.000000e+03</td>\n",
              "      <td>0.000000</td>\n",
              "    </tr>\n",
              "    <tr>\n",
              "      <th>25%</th>\n",
              "      <td>1.000000</td>\n",
              "      <td>5.000000e+03</td>\n",
              "      <td>0.000000</td>\n",
              "    </tr>\n",
              "    <tr>\n",
              "      <th>50%</th>\n",
              "      <td>1.000000</td>\n",
              "      <td>5.000000e+03</td>\n",
              "      <td>1.000000</td>\n",
              "    </tr>\n",
              "    <tr>\n",
              "      <th>75%</th>\n",
              "      <td>1.000000</td>\n",
              "      <td>7.742000e+03</td>\n",
              "      <td>1.000000</td>\n",
              "    </tr>\n",
              "    <tr>\n",
              "      <th>max</th>\n",
              "      <td>1.000000</td>\n",
              "      <td>8.597806e+09</td>\n",
              "      <td>1.000000</td>\n",
              "    </tr>\n",
              "  </tbody>\n",
              "</table>\n",
              "</div>\n",
              "      <button class=\"colab-df-convert\" onclick=\"convertToInteractive('df-82de546a-85f1-490e-ac54-b794f74c84d9')\"\n",
              "              title=\"Convert this dataframe to an interactive table.\"\n",
              "              style=\"display:none;\">\n",
              "        \n",
              "  <svg xmlns=\"http://www.w3.org/2000/svg\" height=\"24px\"viewBox=\"0 0 24 24\"\n",
              "       width=\"24px\">\n",
              "    <path d=\"M0 0h24v24H0V0z\" fill=\"none\"/>\n",
              "    <path d=\"M18.56 5.44l.94 2.06.94-2.06 2.06-.94-2.06-.94-.94-2.06-.94 2.06-2.06.94zm-11 1L8.5 8.5l.94-2.06 2.06-.94-2.06-.94L8.5 2.5l-.94 2.06-2.06.94zm10 10l.94 2.06.94-2.06 2.06-.94-2.06-.94-.94-2.06-.94 2.06-2.06.94z\"/><path d=\"M17.41 7.96l-1.37-1.37c-.4-.4-.92-.59-1.43-.59-.52 0-1.04.2-1.43.59L10.3 9.45l-7.72 7.72c-.78.78-.78 2.05 0 2.83L4 21.41c.39.39.9.59 1.41.59.51 0 1.02-.2 1.41-.59l7.78-7.78 2.81-2.81c.8-.78.8-2.07 0-2.86zM5.41 20L4 18.59l7.72-7.72 1.47 1.35L5.41 20z\"/>\n",
              "  </svg>\n",
              "      </button>\n",
              "      \n",
              "  <style>\n",
              "    .colab-df-container {\n",
              "      display:flex;\n",
              "      flex-wrap:wrap;\n",
              "      gap: 12px;\n",
              "    }\n",
              "\n",
              "    .colab-df-convert {\n",
              "      background-color: #E8F0FE;\n",
              "      border: none;\n",
              "      border-radius: 50%;\n",
              "      cursor: pointer;\n",
              "      display: none;\n",
              "      fill: #1967D2;\n",
              "      height: 32px;\n",
              "      padding: 0 0 0 0;\n",
              "      width: 32px;\n",
              "    }\n",
              "\n",
              "    .colab-df-convert:hover {\n",
              "      background-color: #E2EBFA;\n",
              "      box-shadow: 0px 1px 2px rgba(60, 64, 67, 0.3), 0px 1px 3px 1px rgba(60, 64, 67, 0.15);\n",
              "      fill: #174EA6;\n",
              "    }\n",
              "\n",
              "    [theme=dark] .colab-df-convert {\n",
              "      background-color: #3B4455;\n",
              "      fill: #D2E3FC;\n",
              "    }\n",
              "\n",
              "    [theme=dark] .colab-df-convert:hover {\n",
              "      background-color: #434B5C;\n",
              "      box-shadow: 0px 1px 3px 1px rgba(0, 0, 0, 0.15);\n",
              "      filter: drop-shadow(0px 1px 2px rgba(0, 0, 0, 0.3));\n",
              "      fill: #FFFFFF;\n",
              "    }\n",
              "  </style>\n",
              "\n",
              "      <script>\n",
              "        const buttonEl =\n",
              "          document.querySelector('#df-82de546a-85f1-490e-ac54-b794f74c84d9 button.colab-df-convert');\n",
              "        buttonEl.style.display =\n",
              "          google.colab.kernel.accessAllowed ? 'block' : 'none';\n",
              "\n",
              "        async function convertToInteractive(key) {\n",
              "          const element = document.querySelector('#df-82de546a-85f1-490e-ac54-b794f74c84d9');\n",
              "          const dataTable =\n",
              "            await google.colab.kernel.invokeFunction('convertToInteractive',\n",
              "                                                     [key], {});\n",
              "          if (!dataTable) return;\n",
              "\n",
              "          const docLinkHtml = 'Like what you see? Visit the ' +\n",
              "            '<a target=\"_blank\" href=https://colab.research.google.com/notebooks/data_table.ipynb>data table notebook</a>'\n",
              "            + ' to learn more about interactive tables.';\n",
              "          element.innerHTML = '';\n",
              "          dataTable['output_type'] = 'display_data';\n",
              "          await google.colab.output.renderOutput(dataTable, element);\n",
              "          const docLink = document.createElement('div');\n",
              "          docLink.innerHTML = docLinkHtml;\n",
              "          element.appendChild(docLink);\n",
              "        }\n",
              "      </script>\n",
              "    </div>\n",
              "  </div>\n",
              "  "
            ]
          },
          "metadata": {},
          "execution_count": 25
        }
      ]
    },
    {
      "cell_type": "code",
      "source": [
        "# convert categorical variables to numerical values\n",
        "encoder = LabelEncoder()\n",
        "for col in copy_df.columns:\n",
        "    if copy_df[col].dtype == 'object':\n",
        "        copy_df[col] = encoder.fit_transform(copy_df[col].astype(str))\n",
        "\n",
        "# convert your features to a NumPy array\n",
        "X = np.array(copy_df.drop(['IS_SUCCESSFUL'], axis=1))\n",
        "\n",
        "# convert your target variable to a NumPy array\n",
        "y = np.array(copy_df[\"IS_SUCCESSFUL\"])\n",
        "\n",
        "# convert X back to a Pandas dataframe\n",
        "X = pd.DataFrame(X, columns=copy_df.drop(['IS_SUCCESSFUL'], axis=1).columns)\n"
      ],
      "metadata": {
        "id": "ybym0El-r3mD"
      },
      "execution_count": 35,
      "outputs": []
    },
    {
      "cell_type": "code",
      "source": [
        "\n",
        "# assuming your preprocessed data is in X and y variables\n",
        "X_train, X_test, y_train, y_test = train_test_split(X, y, test_size=0.2, random_state=42)\n"
      ],
      "metadata": {
        "id": "AVjnUD0pA9pH"
      },
      "execution_count": 36,
      "outputs": []
    },
    {
      "cell_type": "code",
      "source": [
        "# define the neural network model\n",
        "model = keras.Sequential([\n",
        "    layers.Dense(64, activation='relu', input_shape=[len(X.columns)]),\n",
        "    layers.Dropout(0.3),\n",
        "    layers.Dense(32, activation='relu'),\n",
        "    layers.Dropout(0.2),\n",
        "    layers.Dense(1, activation='sigmoid')\n",
        "])"
      ],
      "metadata": {
        "id": "X68wspiIBtS6"
      },
      "execution_count": 37,
      "outputs": []
    },
    {
      "cell_type": "code",
      "source": [
        "\n",
        "\n",
        "# compile the model\n",
        "model.compile(optimizer='adam', loss='binary_crossentropy', metrics=['accuracy'])\n",
        "\n",
        "# train the model on the training set\n",
        "history = model.fit(X_train, y_train, validation_data=(X_test, y_test), epochs=100, batch_size=32, callbacks=[keras.callbacks.EarlyStopping(patience=10)])"
      ],
      "metadata": {
        "id": "dlMgnFC8rUZl",
        "colab": {
          "base_uri": "https://localhost:8080/"
        },
        "outputId": "6951a8a7-bac0-414d-adef-1a46706a31d5"
      },
      "execution_count": 38,
      "outputs": [
        {
          "output_type": "stream",
          "name": "stdout",
          "text": [
            "Epoch 1/100\n",
            "858/858 [==============================] - 5s 4ms/step - loss: 68493.8672 - accuracy: 0.4983 - val_loss: 45119.9961 - val_accuracy: 0.4659\n",
            "Epoch 2/100\n",
            "858/858 [==============================] - 2s 2ms/step - loss: 63747.1055 - accuracy: 0.4872 - val_loss: 22191.0117 - val_accuracy: 0.4659\n",
            "Epoch 3/100\n",
            "858/858 [==============================] - 2s 2ms/step - loss: 42566.3984 - accuracy: 0.4969 - val_loss: 192.1858 - val_accuracy: 0.5341\n",
            "Epoch 4/100\n",
            "858/858 [==============================] - 2s 2ms/step - loss: 18671.2930 - accuracy: 0.4881 - val_loss: 4426.9360 - val_accuracy: 0.4659\n",
            "Epoch 5/100\n",
            "858/858 [==============================] - 2s 2ms/step - loss: 8838.5713 - accuracy: 0.5003 - val_loss: 4004.8201 - val_accuracy: 0.4659\n",
            "Epoch 6/100\n",
            "858/858 [==============================] - 2s 3ms/step - loss: 7883.1997 - accuracy: 0.4845 - val_loss: 4311.6558 - val_accuracy: 0.4659\n",
            "Epoch 7/100\n",
            "858/858 [==============================] - 3s 3ms/step - loss: 8271.5811 - accuracy: 0.4852 - val_loss: 8425.9814 - val_accuracy: 0.4809\n",
            "Epoch 8/100\n",
            "858/858 [==============================] - 2s 2ms/step - loss: 7089.2676 - accuracy: 0.5067 - val_loss: 56.4531 - val_accuracy: 0.5222\n",
            "Epoch 9/100\n",
            "858/858 [==============================] - 2s 2ms/step - loss: 1203.7169 - accuracy: 0.5150 - val_loss: 1.4958 - val_accuracy: 0.5341\n",
            "Epoch 10/100\n",
            "858/858 [==============================] - 2s 2ms/step - loss: 259.9159 - accuracy: 0.5176 - val_loss: 1.1588 - val_accuracy: 0.5341\n",
            "Epoch 11/100\n",
            "858/858 [==============================] - 2s 2ms/step - loss: 662.1447 - accuracy: 0.5250 - val_loss: 0.8897 - val_accuracy: 0.5341\n",
            "Epoch 12/100\n",
            "858/858 [==============================] - 3s 3ms/step - loss: 244.4110 - accuracy: 0.5283 - val_loss: 0.7462 - val_accuracy: 0.5341\n",
            "Epoch 13/100\n",
            "858/858 [==============================] - 2s 3ms/step - loss: 213.3649 - accuracy: 0.5302 - val_loss: 0.6980 - val_accuracy: 0.5341\n",
            "Epoch 14/100\n",
            "858/858 [==============================] - 2s 2ms/step - loss: 279.2216 - accuracy: 0.5286 - val_loss: 0.6917 - val_accuracy: 0.5341\n",
            "Epoch 15/100\n",
            "858/858 [==============================] - 2s 2ms/step - loss: 34.4096 - accuracy: 0.5287 - val_loss: 0.6909 - val_accuracy: 0.5341\n",
            "Epoch 16/100\n",
            "858/858 [==============================] - 2s 2ms/step - loss: 16.9271 - accuracy: 0.5299 - val_loss: 0.6909 - val_accuracy: 0.5341\n",
            "Epoch 17/100\n",
            "858/858 [==============================] - 2s 2ms/step - loss: 19.7097 - accuracy: 0.5310 - val_loss: 0.6908 - val_accuracy: 0.5341\n",
            "Epoch 18/100\n",
            "858/858 [==============================] - 3s 4ms/step - loss: 48.1760 - accuracy: 0.5311 - val_loss: 0.6908 - val_accuracy: 0.5341\n",
            "Epoch 19/100\n",
            "858/858 [==============================] - 2s 2ms/step - loss: 46.0679 - accuracy: 0.5307 - val_loss: 0.6909 - val_accuracy: 0.5341\n",
            "Epoch 20/100\n",
            "858/858 [==============================] - 2s 2ms/step - loss: 45.1852 - accuracy: 0.5311 - val_loss: 0.6908 - val_accuracy: 0.5341\n",
            "Epoch 21/100\n",
            "858/858 [==============================] - 2s 2ms/step - loss: 186.6854 - accuracy: 0.5319 - val_loss: 0.6908 - val_accuracy: 0.5341\n",
            "Epoch 22/100\n",
            "858/858 [==============================] - 2s 3ms/step - loss: 1.5454 - accuracy: 0.5317 - val_loss: 0.6908 - val_accuracy: 0.5341\n",
            "Epoch 23/100\n",
            "858/858 [==============================] - 3s 3ms/step - loss: 9.0112 - accuracy: 0.5316 - val_loss: 0.6908 - val_accuracy: 0.5341\n",
            "Epoch 24/100\n",
            "858/858 [==============================] - 3s 3ms/step - loss: 1.0989 - accuracy: 0.5317 - val_loss: 0.6908 - val_accuracy: 0.5341\n",
            "Epoch 25/100\n",
            "858/858 [==============================] - 2s 2ms/step - loss: 0.8602 - accuracy: 0.5311 - val_loss: 0.6908 - val_accuracy: 0.5341\n",
            "Epoch 26/100\n",
            "858/858 [==============================] - 2s 2ms/step - loss: 0.7317 - accuracy: 0.5318 - val_loss: 0.6908 - val_accuracy: 0.5341\n",
            "Epoch 27/100\n",
            "858/858 [==============================] - 2s 2ms/step - loss: 29.3791 - accuracy: 0.5321 - val_loss: 0.6908 - val_accuracy: 0.5341\n"
          ]
        }
      ]
    },
    {
      "cell_type": "code",
      "source": [],
      "metadata": {
        "id": "gno242zErUt3"
      },
      "execution_count": null,
      "outputs": []
    },
    {
      "cell_type": "code",
      "source": [],
      "metadata": {
        "id": "Pzr0gTiIrU0_"
      },
      "execution_count": null,
      "outputs": []
    },
    {
      "cell_type": "code",
      "source": [
        "# Preprocess the dataset\n",
        "#removes the 'EIN' and 'NAME' columns from the dataset named 'df'. \n",
        "df = df.drop(['EIN', 'NAME'], axis=1)  \n",
        "\n",
        "# Converts the values in the 'INCOME_AMT' column of the 'df' dataset from text to numbers\n",
        "#maps specific text values (0, <1M, 1M-5M, 5M-10M, 10M-50M, and 50M+) to numerical values \n",
        "df['INCOME_AMT'] = df['INCOME_AMT'].map({'0': 0, '<1M': 1, '1M-5M': 2, '5M-10M': 3, '10M-50M': 4, '50M+': 5})  # Convert income amount to numerical values\n"
      ],
      "metadata": {
        "id": "X6sUs_34Ogws"
      },
      "execution_count": null,
      "outputs": []
    },
    {
      "cell_type": "code",
      "source": [
        "#split the data into two parts: one part containing all the columns except for the \"IS_SUCCESSFUL\" column, \n",
        "#the other part containing only the \"IS_SUCCESSFUL\" column\n",
        "\n",
        "X = df.drop(['IS_SUCCESSFUL'], axis=1)\n",
        "y = df['IS_SUCCESSFUL']"
      ],
      "metadata": {
        "id": "Oa476z36Oc0a"
      },
      "execution_count": null,
      "outputs": []
    },
    {
      "cell_type": "code",
      "source": [
        "# create a new DataFrame called df_encoded by using a function called pd.get_dummies()\n",
        "# take original DataFrame X and converts each categorical column into a set of new columns, one for each possible value. \n",
        "# one-hot encoding\n",
        "\n",
        "categorical_cols = ['APPLICATION_TYPE', 'AFFILIATION', 'CLASSIFICATION', 'USE_CASE', 'ORGANIZATION', 'SPECIAL_CONSIDERATIONS']\n",
        "df_encoded = pd.get_dummies(X, columns=categorical_cols)\n"
      ],
      "metadata": {
        "id": "52Xv4L0JQPTa"
      },
      "execution_count": null,
      "outputs": []
    },
    {
      "cell_type": "code",
      "source": [
        "# train_test_split function to split the encoded dataset (df_encoded) and the target variable (y) into two sets: X_train_val and y_train_val, \n",
        "#  used for training and validation - testsize 20%\n",
        "X_train_val, X_test, y_train_val, y_test = train_test_split(df_encoded, y, test_size=0.2, random_state=42)\n",
        "\n",
        "#splits X_train_val and y_train_val into two sets: X_train and y_train, which will be used for training, and X_val and y_val-used for validation\n",
        "# testsize also 20%\n",
        "X_train, X_val, y_train, y_val = train_test_split(X_train_val, y_train_val, test_size=0.2, random_state=42)\n"
      ],
      "metadata": {
        "id": "5igQaX_ANhiJ"
      },
      "execution_count": null,
      "outputs": []
    },
    {
      "cell_type": "code",
      "source": [
        "X_train.select_dtypes(include=['object']).columns\n"
      ],
      "metadata": {
        "colab": {
          "base_uri": "https://localhost:8080/"
        },
        "id": "l6N20IPaQAJK",
        "outputId": "09d6bf57-f9a1-4b8c-dbba-413dc052cbf8"
      },
      "execution_count": null,
      "outputs": [
        {
          "output_type": "execute_result",
          "data": {
            "text/plain": [
              "Index([], dtype='object')"
            ]
          },
          "metadata": {},
          "execution_count": 51
        }
      ]
    },
    {
      "cell_type": "markdown",
      "source": [
        "The first line creates a dataset for training, and it takes the X_train and y_train data, converts them to floating point values using the numpy library, and then groups them into batches of size 32. Batching the data means that the model will be trained on a small set of data at a time, rather than the entire dataset all at once.\n",
        "\n",
        "The second line creates a dataset for validation, and it does the same thing as the first line, but it takes the X_val and y_val data instead. This dataset will be used to evaluate the model's performance during training, and to check if it is overfitting.\n",
        "\n",
        "The third line creates a dataset for testing, and it does the same thing as the first two lines, but it takes the X_test and y_test data instead. This dataset will be used to test the model's performance after it has finished training."
      ],
      "metadata": {
        "id": "pNQdy24oSYJ6"
      }
    },
    {
      "cell_type": "code",
      "source": [
        "# Convert the data to TensorFlow datasets\n",
        "train_ds = tf.data.Dataset.from_tensor_slices((X_train.values.astype(np.float32), y_train.values.astype(np.float32))).batch(32)\n",
        "val_ds = tf.data.Dataset.from_tensor_slices((X_val.values.astype(np.float32), y_val.values.astype(np.float32))).batch(32)\n",
        "test_ds = tf.data.Dataset.from_tensor_slices((X_test.values.astype(np.float32), y_test.values.astype(np.float32))).batch(32)"
      ],
      "metadata": {
        "id": "SELxZd5tPjMr"
      },
      "execution_count": null,
      "outputs": []
    },
    {
      "cell_type": "code",
      "source": [
        "model = keras.Sequential([\n",
        "    layers.Dense(32, activation='relu', input_shape=[len(X_train.columns)]),\n",
        "    layers.Dense(1, activation='sigmoid')\n",
        "])\n"
      ],
      "metadata": {
        "id": "ze5ekGl0Sn-Y"
      },
      "execution_count": null,
      "outputs": []
    },
    {
      "cell_type": "code",
      "source": [
        "model.compile(optimizer='adam', loss='binary_crossentropy', metrics=['accuracy'])\n"
      ],
      "metadata": {
        "id": "eSgNeQTXTWom"
      },
      "execution_count": null,
      "outputs": []
    },
    {
      "cell_type": "code",
      "source": [
        "history = model.fit(train_ds, validation_data=val_ds, epochs=50)\n"
      ],
      "metadata": {
        "colab": {
          "base_uri": "https://localhost:8080/"
        },
        "id": "JOlE_W_RTZU4",
        "outputId": "1a31ad64-9984-465b-cd0d-f1d5d0b3e135"
      },
      "execution_count": null,
      "outputs": [
        {
          "output_type": "stream",
          "name": "stdout",
          "text": [
            "Epoch 1/50\n",
            "686/686 [==============================] - 2s 2ms/step - loss: nan - accuracy: 0.4663 - val_loss: nan - val_accuracy: 0.4749\n",
            "Epoch 2/50\n",
            "686/686 [==============================] - 1s 2ms/step - loss: nan - accuracy: 0.4663 - val_loss: nan - val_accuracy: 0.4749\n",
            "Epoch 3/50\n",
            "686/686 [==============================] - 2s 2ms/step - loss: nan - accuracy: 0.4663 - val_loss: nan - val_accuracy: 0.4749\n",
            "Epoch 4/50\n",
            "686/686 [==============================] - 1s 2ms/step - loss: nan - accuracy: 0.4663 - val_loss: nan - val_accuracy: 0.4749\n",
            "Epoch 5/50\n",
            "686/686 [==============================] - 1s 2ms/step - loss: nan - accuracy: 0.4663 - val_loss: nan - val_accuracy: 0.4749\n",
            "Epoch 6/50\n",
            "686/686 [==============================] - 1s 2ms/step - loss: nan - accuracy: 0.4663 - val_loss: nan - val_accuracy: 0.4749\n",
            "Epoch 7/50\n",
            "686/686 [==============================] - 1s 2ms/step - loss: nan - accuracy: 0.4663 - val_loss: nan - val_accuracy: 0.4749\n",
            "Epoch 8/50\n",
            "686/686 [==============================] - 5s 7ms/step - loss: nan - accuracy: 0.4663 - val_loss: nan - val_accuracy: 0.4749\n",
            "Epoch 9/50\n",
            "686/686 [==============================] - 3s 4ms/step - loss: nan - accuracy: 0.4663 - val_loss: nan - val_accuracy: 0.4749\n",
            "Epoch 10/50\n",
            "686/686 [==============================] - 1s 2ms/step - loss: nan - accuracy: 0.4663 - val_loss: nan - val_accuracy: 0.4749\n",
            "Epoch 11/50\n",
            "686/686 [==============================] - 3s 5ms/step - loss: nan - accuracy: 0.4663 - val_loss: nan - val_accuracy: 0.4749\n",
            "Epoch 12/50\n",
            "686/686 [==============================] - 1s 2ms/step - loss: nan - accuracy: 0.4663 - val_loss: nan - val_accuracy: 0.4749\n",
            "Epoch 13/50\n",
            "686/686 [==============================] - 1s 2ms/step - loss: nan - accuracy: 0.4663 - val_loss: nan - val_accuracy: 0.4749\n",
            "Epoch 14/50\n",
            "686/686 [==============================] - 1s 2ms/step - loss: nan - accuracy: 0.4663 - val_loss: nan - val_accuracy: 0.4749\n",
            "Epoch 15/50\n",
            "686/686 [==============================] - 1s 2ms/step - loss: nan - accuracy: 0.4663 - val_loss: nan - val_accuracy: 0.4749\n",
            "Epoch 16/50\n",
            "686/686 [==============================] - 2s 2ms/step - loss: nan - accuracy: 0.4663 - val_loss: nan - val_accuracy: 0.4749\n",
            "Epoch 17/50\n",
            "686/686 [==============================] - 2s 2ms/step - loss: nan - accuracy: 0.4663 - val_loss: nan - val_accuracy: 0.4749\n",
            "Epoch 18/50\n",
            "686/686 [==============================] - 1s 2ms/step - loss: nan - accuracy: 0.4663 - val_loss: nan - val_accuracy: 0.4749\n",
            "Epoch 19/50\n",
            "686/686 [==============================] - 1s 2ms/step - loss: nan - accuracy: 0.4663 - val_loss: nan - val_accuracy: 0.4749\n",
            "Epoch 20/50\n",
            "686/686 [==============================] - 1s 2ms/step - loss: nan - accuracy: 0.4663 - val_loss: nan - val_accuracy: 0.4749\n",
            "Epoch 21/50\n",
            "686/686 [==============================] - 1s 2ms/step - loss: nan - accuracy: 0.4663 - val_loss: nan - val_accuracy: 0.4749\n",
            "Epoch 22/50\n",
            "686/686 [==============================] - 2s 2ms/step - loss: nan - accuracy: 0.4663 - val_loss: nan - val_accuracy: 0.4749\n",
            "Epoch 23/50\n",
            "686/686 [==============================] - 1s 2ms/step - loss: nan - accuracy: 0.4663 - val_loss: nan - val_accuracy: 0.4749\n",
            "Epoch 24/50\n",
            "686/686 [==============================] - 1s 2ms/step - loss: nan - accuracy: 0.4663 - val_loss: nan - val_accuracy: 0.4749\n",
            "Epoch 25/50\n",
            "686/686 [==============================] - 1s 2ms/step - loss: nan - accuracy: 0.4663 - val_loss: nan - val_accuracy: 0.4749\n",
            "Epoch 26/50\n",
            "686/686 [==============================] - 2s 2ms/step - loss: nan - accuracy: 0.4663 - val_loss: nan - val_accuracy: 0.4749\n",
            "Epoch 27/50\n",
            "686/686 [==============================] - 1s 2ms/step - loss: nan - accuracy: 0.4663 - val_loss: nan - val_accuracy: 0.4749\n",
            "Epoch 28/50\n",
            "686/686 [==============================] - 1s 2ms/step - loss: nan - accuracy: 0.4663 - val_loss: nan - val_accuracy: 0.4749\n",
            "Epoch 29/50\n",
            "686/686 [==============================] - 1s 2ms/step - loss: nan - accuracy: 0.4663 - val_loss: nan - val_accuracy: 0.4749\n",
            "Epoch 30/50\n",
            "686/686 [==============================] - 1s 2ms/step - loss: nan - accuracy: 0.4663 - val_loss: nan - val_accuracy: 0.4749\n",
            "Epoch 31/50\n",
            "686/686 [==============================] - 1s 2ms/step - loss: nan - accuracy: 0.4663 - val_loss: nan - val_accuracy: 0.4749\n",
            "Epoch 32/50\n",
            "686/686 [==============================] - 2s 3ms/step - loss: nan - accuracy: 0.4663 - val_loss: nan - val_accuracy: 0.4749\n",
            "Epoch 33/50\n",
            "686/686 [==============================] - 1s 2ms/step - loss: nan - accuracy: 0.4663 - val_loss: nan - val_accuracy: 0.4749\n",
            "Epoch 34/50\n",
            "686/686 [==============================] - 1s 2ms/step - loss: nan - accuracy: 0.4663 - val_loss: nan - val_accuracy: 0.4749\n",
            "Epoch 35/50\n",
            "686/686 [==============================] - 1s 2ms/step - loss: nan - accuracy: 0.4663 - val_loss: nan - val_accuracy: 0.4749\n",
            "Epoch 36/50\n",
            "686/686 [==============================] - 1s 2ms/step - loss: nan - accuracy: 0.4663 - val_loss: nan - val_accuracy: 0.4749\n",
            "Epoch 37/50\n",
            "686/686 [==============================] - 1s 2ms/step - loss: nan - accuracy: 0.4663 - val_loss: nan - val_accuracy: 0.4749\n",
            "Epoch 38/50\n",
            "686/686 [==============================] - 2s 2ms/step - loss: nan - accuracy: 0.4663 - val_loss: nan - val_accuracy: 0.4749\n",
            "Epoch 39/50\n",
            "686/686 [==============================] - 1s 2ms/step - loss: nan - accuracy: 0.4663 - val_loss: nan - val_accuracy: 0.4749\n",
            "Epoch 40/50\n",
            "686/686 [==============================] - 1s 2ms/step - loss: nan - accuracy: 0.4663 - val_loss: nan - val_accuracy: 0.4749\n",
            "Epoch 41/50\n",
            "686/686 [==============================] - 1s 2ms/step - loss: nan - accuracy: 0.4663 - val_loss: nan - val_accuracy: 0.4749\n",
            "Epoch 42/50\n",
            "686/686 [==============================] - 1s 2ms/step - loss: nan - accuracy: 0.4663 - val_loss: nan - val_accuracy: 0.4749\n",
            "Epoch 43/50\n",
            "686/686 [==============================] - 1s 2ms/step - loss: nan - accuracy: 0.4663 - val_loss: nan - val_accuracy: 0.4749\n",
            "Epoch 44/50\n",
            "686/686 [==============================] - 1s 2ms/step - loss: nan - accuracy: 0.4663 - val_loss: nan - val_accuracy: 0.4749\n",
            "Epoch 45/50\n",
            "686/686 [==============================] - 1s 2ms/step - loss: nan - accuracy: 0.4663 - val_loss: nan - val_accuracy: 0.4749\n",
            "Epoch 46/50\n",
            "686/686 [==============================] - 1s 2ms/step - loss: nan - accuracy: 0.4663 - val_loss: nan - val_accuracy: 0.4749\n",
            "Epoch 47/50\n",
            "686/686 [==============================] - 1s 2ms/step - loss: nan - accuracy: 0.4663 - val_loss: nan - val_accuracy: 0.4749\n",
            "Epoch 48/50\n",
            "686/686 [==============================] - 1s 2ms/step - loss: nan - accuracy: 0.4663 - val_loss: nan - val_accuracy: 0.4749\n",
            "Epoch 49/50\n",
            "686/686 [==============================] - 1s 2ms/step - loss: nan - accuracy: 0.4663 - val_loss: nan - val_accuracy: 0.4749\n",
            "Epoch 50/50\n",
            "686/686 [==============================] - 2s 3ms/step - loss: nan - accuracy: 0.4663 - val_loss: nan - val_accuracy: 0.4749\n"
          ]
        }
      ]
    },
    {
      "cell_type": "code",
      "source": [
        "#Import and read the charity_data.csv.\n",
        "rf_df = pd.read_csv(\"https://static.bc-edx.com/data/dl-1-2/m21/lms/starter/charity_data.csv\")\n",
        "rf_df.head()"
      ],
      "metadata": {
        "colab": {
          "base_uri": "https://localhost:8080/",
          "height": 496
        },
        "id": "RDvRtI3TU0ON",
        "outputId": "ff9a2aa6-4a7b-4130-fac1-a6bee5f8f52c"
      },
      "execution_count": null,
      "outputs": [
        {
          "output_type": "execute_result",
          "data": {
            "text/plain": [
              "        EIN                                      NAME APPLICATION_TYPE  \\\n",
              "0  10520599              BLUE KNIGHTS MOTORCYCLE CLUB              T10   \n",
              "1  10531628    AMERICAN CHESAPEAKE CLUB CHARITABLE TR               T3   \n",
              "2  10547893        ST CLOUD PROFESSIONAL FIREFIGHTERS               T5   \n",
              "3  10553066            SOUTHSIDE ATHLETIC ASSOCIATION               T3   \n",
              "4  10556103  GENETIC RESEARCH INSTITUTE OF THE DESERT               T3   \n",
              "\n",
              "        AFFILIATION CLASSIFICATION      USE_CASE  ORGANIZATION  STATUS  \\\n",
              "0       Independent          C1000    ProductDev   Association       1   \n",
              "1       Independent          C2000  Preservation  Co-operative       1   \n",
              "2  CompanySponsored          C3000    ProductDev   Association       1   \n",
              "3  CompanySponsored          C2000  Preservation         Trust       1   \n",
              "4       Independent          C1000     Heathcare         Trust       1   \n",
              "\n",
              "      INCOME_AMT SPECIAL_CONSIDERATIONS  ASK_AMT  IS_SUCCESSFUL  \n",
              "0              0                      N     5000              1  \n",
              "1         1-9999                      N   108590              1  \n",
              "2              0                      N     5000              0  \n",
              "3    10000-24999                      N     6692              1  \n",
              "4  100000-499999                      N   142590              1  "
            ],
            "text/html": [
              "\n",
              "  <div id=\"df-dd31ce7b-0603-4d4b-b4f5-17fa75b91aac\">\n",
              "    <div class=\"colab-df-container\">\n",
              "      <div>\n",
              "<style scoped>\n",
              "    .dataframe tbody tr th:only-of-type {\n",
              "        vertical-align: middle;\n",
              "    }\n",
              "\n",
              "    .dataframe tbody tr th {\n",
              "        vertical-align: top;\n",
              "    }\n",
              "\n",
              "    .dataframe thead th {\n",
              "        text-align: right;\n",
              "    }\n",
              "</style>\n",
              "<table border=\"1\" class=\"dataframe\">\n",
              "  <thead>\n",
              "    <tr style=\"text-align: right;\">\n",
              "      <th></th>\n",
              "      <th>EIN</th>\n",
              "      <th>NAME</th>\n",
              "      <th>APPLICATION_TYPE</th>\n",
              "      <th>AFFILIATION</th>\n",
              "      <th>CLASSIFICATION</th>\n",
              "      <th>USE_CASE</th>\n",
              "      <th>ORGANIZATION</th>\n",
              "      <th>STATUS</th>\n",
              "      <th>INCOME_AMT</th>\n",
              "      <th>SPECIAL_CONSIDERATIONS</th>\n",
              "      <th>ASK_AMT</th>\n",
              "      <th>IS_SUCCESSFUL</th>\n",
              "    </tr>\n",
              "  </thead>\n",
              "  <tbody>\n",
              "    <tr>\n",
              "      <th>0</th>\n",
              "      <td>10520599</td>\n",
              "      <td>BLUE KNIGHTS MOTORCYCLE CLUB</td>\n",
              "      <td>T10</td>\n",
              "      <td>Independent</td>\n",
              "      <td>C1000</td>\n",
              "      <td>ProductDev</td>\n",
              "      <td>Association</td>\n",
              "      <td>1</td>\n",
              "      <td>0</td>\n",
              "      <td>N</td>\n",
              "      <td>5000</td>\n",
              "      <td>1</td>\n",
              "    </tr>\n",
              "    <tr>\n",
              "      <th>1</th>\n",
              "      <td>10531628</td>\n",
              "      <td>AMERICAN CHESAPEAKE CLUB CHARITABLE TR</td>\n",
              "      <td>T3</td>\n",
              "      <td>Independent</td>\n",
              "      <td>C2000</td>\n",
              "      <td>Preservation</td>\n",
              "      <td>Co-operative</td>\n",
              "      <td>1</td>\n",
              "      <td>1-9999</td>\n",
              "      <td>N</td>\n",
              "      <td>108590</td>\n",
              "      <td>1</td>\n",
              "    </tr>\n",
              "    <tr>\n",
              "      <th>2</th>\n",
              "      <td>10547893</td>\n",
              "      <td>ST CLOUD PROFESSIONAL FIREFIGHTERS</td>\n",
              "      <td>T5</td>\n",
              "      <td>CompanySponsored</td>\n",
              "      <td>C3000</td>\n",
              "      <td>ProductDev</td>\n",
              "      <td>Association</td>\n",
              "      <td>1</td>\n",
              "      <td>0</td>\n",
              "      <td>N</td>\n",
              "      <td>5000</td>\n",
              "      <td>0</td>\n",
              "    </tr>\n",
              "    <tr>\n",
              "      <th>3</th>\n",
              "      <td>10553066</td>\n",
              "      <td>SOUTHSIDE ATHLETIC ASSOCIATION</td>\n",
              "      <td>T3</td>\n",
              "      <td>CompanySponsored</td>\n",
              "      <td>C2000</td>\n",
              "      <td>Preservation</td>\n",
              "      <td>Trust</td>\n",
              "      <td>1</td>\n",
              "      <td>10000-24999</td>\n",
              "      <td>N</td>\n",
              "      <td>6692</td>\n",
              "      <td>1</td>\n",
              "    </tr>\n",
              "    <tr>\n",
              "      <th>4</th>\n",
              "      <td>10556103</td>\n",
              "      <td>GENETIC RESEARCH INSTITUTE OF THE DESERT</td>\n",
              "      <td>T3</td>\n",
              "      <td>Independent</td>\n",
              "      <td>C1000</td>\n",
              "      <td>Heathcare</td>\n",
              "      <td>Trust</td>\n",
              "      <td>1</td>\n",
              "      <td>100000-499999</td>\n",
              "      <td>N</td>\n",
              "      <td>142590</td>\n",
              "      <td>1</td>\n",
              "    </tr>\n",
              "  </tbody>\n",
              "</table>\n",
              "</div>\n",
              "      <button class=\"colab-df-convert\" onclick=\"convertToInteractive('df-dd31ce7b-0603-4d4b-b4f5-17fa75b91aac')\"\n",
              "              title=\"Convert this dataframe to an interactive table.\"\n",
              "              style=\"display:none;\">\n",
              "        \n",
              "  <svg xmlns=\"http://www.w3.org/2000/svg\" height=\"24px\"viewBox=\"0 0 24 24\"\n",
              "       width=\"24px\">\n",
              "    <path d=\"M0 0h24v24H0V0z\" fill=\"none\"/>\n",
              "    <path d=\"M18.56 5.44l.94 2.06.94-2.06 2.06-.94-2.06-.94-.94-2.06-.94 2.06-2.06.94zm-11 1L8.5 8.5l.94-2.06 2.06-.94-2.06-.94L8.5 2.5l-.94 2.06-2.06.94zm10 10l.94 2.06.94-2.06 2.06-.94-2.06-.94-.94-2.06-.94 2.06-2.06.94z\"/><path d=\"M17.41 7.96l-1.37-1.37c-.4-.4-.92-.59-1.43-.59-.52 0-1.04.2-1.43.59L10.3 9.45l-7.72 7.72c-.78.78-.78 2.05 0 2.83L4 21.41c.39.39.9.59 1.41.59.51 0 1.02-.2 1.41-.59l7.78-7.78 2.81-2.81c.8-.78.8-2.07 0-2.86zM5.41 20L4 18.59l7.72-7.72 1.47 1.35L5.41 20z\"/>\n",
              "  </svg>\n",
              "      </button>\n",
              "      \n",
              "  <style>\n",
              "    .colab-df-container {\n",
              "      display:flex;\n",
              "      flex-wrap:wrap;\n",
              "      gap: 12px;\n",
              "    }\n",
              "\n",
              "    .colab-df-convert {\n",
              "      background-color: #E8F0FE;\n",
              "      border: none;\n",
              "      border-radius: 50%;\n",
              "      cursor: pointer;\n",
              "      display: none;\n",
              "      fill: #1967D2;\n",
              "      height: 32px;\n",
              "      padding: 0 0 0 0;\n",
              "      width: 32px;\n",
              "    }\n",
              "\n",
              "    .colab-df-convert:hover {\n",
              "      background-color: #E2EBFA;\n",
              "      box-shadow: 0px 1px 2px rgba(60, 64, 67, 0.3), 0px 1px 3px 1px rgba(60, 64, 67, 0.15);\n",
              "      fill: #174EA6;\n",
              "    }\n",
              "\n",
              "    [theme=dark] .colab-df-convert {\n",
              "      background-color: #3B4455;\n",
              "      fill: #D2E3FC;\n",
              "    }\n",
              "\n",
              "    [theme=dark] .colab-df-convert:hover {\n",
              "      background-color: #434B5C;\n",
              "      box-shadow: 0px 1px 3px 1px rgba(0, 0, 0, 0.15);\n",
              "      filter: drop-shadow(0px 1px 2px rgba(0, 0, 0, 0.3));\n",
              "      fill: #FFFFFF;\n",
              "    }\n",
              "  </style>\n",
              "\n",
              "      <script>\n",
              "        const buttonEl =\n",
              "          document.querySelector('#df-dd31ce7b-0603-4d4b-b4f5-17fa75b91aac button.colab-df-convert');\n",
              "        buttonEl.style.display =\n",
              "          google.colab.kernel.accessAllowed ? 'block' : 'none';\n",
              "\n",
              "        async function convertToInteractive(key) {\n",
              "          const element = document.querySelector('#df-dd31ce7b-0603-4d4b-b4f5-17fa75b91aac');\n",
              "          const dataTable =\n",
              "            await google.colab.kernel.invokeFunction('convertToInteractive',\n",
              "                                                     [key], {});\n",
              "          if (!dataTable) return;\n",
              "\n",
              "          const docLinkHtml = 'Like what you see? Visit the ' +\n",
              "            '<a target=\"_blank\" href=https://colab.research.google.com/notebooks/data_table.ipynb>data table notebook</a>'\n",
              "            + ' to learn more about interactive tables.';\n",
              "          element.innerHTML = '';\n",
              "          dataTable['output_type'] = 'display_data';\n",
              "          await google.colab.output.renderOutput(dataTable, element);\n",
              "          const docLink = document.createElement('div');\n",
              "          docLink.innerHTML = docLinkHtml;\n",
              "          element.appendChild(docLink);\n",
              "        }\n",
              "      </script>\n",
              "    </div>\n",
              "  </div>\n",
              "  "
            ]
          },
          "metadata": {},
          "execution_count": 59
        }
      ]
    },
    {
      "cell_type": "code",
      "source": [
        "rf_df.describe()\n"
      ],
      "metadata": {
        "colab": {
          "base_uri": "https://localhost:8080/",
          "height": 300
        },
        "id": "oVhuQYPtjC5g",
        "outputId": "f9f835b9-7351-4c72-fe9f-0132d77ad309"
      },
      "execution_count": null,
      "outputs": [
        {
          "output_type": "execute_result",
          "data": {
            "text/plain": [
              "                EIN        STATUS       ASK_AMT  IS_SUCCESSFUL\n",
              "count  3.429900e+04  34299.000000  3.429900e+04   34299.000000\n",
              "mean   5.191852e+08      0.999854  2.769199e+06       0.532406\n",
              "std    2.451472e+08      0.012073  8.713045e+07       0.498956\n",
              "min    1.052060e+07      0.000000  5.000000e+03       0.000000\n",
              "25%    2.748482e+08      1.000000  5.000000e+03       0.000000\n",
              "50%    4.656317e+08      1.000000  5.000000e+03       1.000000\n",
              "75%    7.526117e+08      1.000000  7.742000e+03       1.000000\n",
              "max    9.960869e+08      1.000000  8.597806e+09       1.000000"
            ],
            "text/html": [
              "\n",
              "  <div id=\"df-c1f14918-b54a-409e-a0bd-21cc2fc7e6b2\">\n",
              "    <div class=\"colab-df-container\">\n",
              "      <div>\n",
              "<style scoped>\n",
              "    .dataframe tbody tr th:only-of-type {\n",
              "        vertical-align: middle;\n",
              "    }\n",
              "\n",
              "    .dataframe tbody tr th {\n",
              "        vertical-align: top;\n",
              "    }\n",
              "\n",
              "    .dataframe thead th {\n",
              "        text-align: right;\n",
              "    }\n",
              "</style>\n",
              "<table border=\"1\" class=\"dataframe\">\n",
              "  <thead>\n",
              "    <tr style=\"text-align: right;\">\n",
              "      <th></th>\n",
              "      <th>EIN</th>\n",
              "      <th>STATUS</th>\n",
              "      <th>ASK_AMT</th>\n",
              "      <th>IS_SUCCESSFUL</th>\n",
              "    </tr>\n",
              "  </thead>\n",
              "  <tbody>\n",
              "    <tr>\n",
              "      <th>count</th>\n",
              "      <td>3.429900e+04</td>\n",
              "      <td>34299.000000</td>\n",
              "      <td>3.429900e+04</td>\n",
              "      <td>34299.000000</td>\n",
              "    </tr>\n",
              "    <tr>\n",
              "      <th>mean</th>\n",
              "      <td>5.191852e+08</td>\n",
              "      <td>0.999854</td>\n",
              "      <td>2.769199e+06</td>\n",
              "      <td>0.532406</td>\n",
              "    </tr>\n",
              "    <tr>\n",
              "      <th>std</th>\n",
              "      <td>2.451472e+08</td>\n",
              "      <td>0.012073</td>\n",
              "      <td>8.713045e+07</td>\n",
              "      <td>0.498956</td>\n",
              "    </tr>\n",
              "    <tr>\n",
              "      <th>min</th>\n",
              "      <td>1.052060e+07</td>\n",
              "      <td>0.000000</td>\n",
              "      <td>5.000000e+03</td>\n",
              "      <td>0.000000</td>\n",
              "    </tr>\n",
              "    <tr>\n",
              "      <th>25%</th>\n",
              "      <td>2.748482e+08</td>\n",
              "      <td>1.000000</td>\n",
              "      <td>5.000000e+03</td>\n",
              "      <td>0.000000</td>\n",
              "    </tr>\n",
              "    <tr>\n",
              "      <th>50%</th>\n",
              "      <td>4.656317e+08</td>\n",
              "      <td>1.000000</td>\n",
              "      <td>5.000000e+03</td>\n",
              "      <td>1.000000</td>\n",
              "    </tr>\n",
              "    <tr>\n",
              "      <th>75%</th>\n",
              "      <td>7.526117e+08</td>\n",
              "      <td>1.000000</td>\n",
              "      <td>7.742000e+03</td>\n",
              "      <td>1.000000</td>\n",
              "    </tr>\n",
              "    <tr>\n",
              "      <th>max</th>\n",
              "      <td>9.960869e+08</td>\n",
              "      <td>1.000000</td>\n",
              "      <td>8.597806e+09</td>\n",
              "      <td>1.000000</td>\n",
              "    </tr>\n",
              "  </tbody>\n",
              "</table>\n",
              "</div>\n",
              "      <button class=\"colab-df-convert\" onclick=\"convertToInteractive('df-c1f14918-b54a-409e-a0bd-21cc2fc7e6b2')\"\n",
              "              title=\"Convert this dataframe to an interactive table.\"\n",
              "              style=\"display:none;\">\n",
              "        \n",
              "  <svg xmlns=\"http://www.w3.org/2000/svg\" height=\"24px\"viewBox=\"0 0 24 24\"\n",
              "       width=\"24px\">\n",
              "    <path d=\"M0 0h24v24H0V0z\" fill=\"none\"/>\n",
              "    <path d=\"M18.56 5.44l.94 2.06.94-2.06 2.06-.94-2.06-.94-.94-2.06-.94 2.06-2.06.94zm-11 1L8.5 8.5l.94-2.06 2.06-.94-2.06-.94L8.5 2.5l-.94 2.06-2.06.94zm10 10l.94 2.06.94-2.06 2.06-.94-2.06-.94-.94-2.06-.94 2.06-2.06.94z\"/><path d=\"M17.41 7.96l-1.37-1.37c-.4-.4-.92-.59-1.43-.59-.52 0-1.04.2-1.43.59L10.3 9.45l-7.72 7.72c-.78.78-.78 2.05 0 2.83L4 21.41c.39.39.9.59 1.41.59.51 0 1.02-.2 1.41-.59l7.78-7.78 2.81-2.81c.8-.78.8-2.07 0-2.86zM5.41 20L4 18.59l7.72-7.72 1.47 1.35L5.41 20z\"/>\n",
              "  </svg>\n",
              "      </button>\n",
              "      \n",
              "  <style>\n",
              "    .colab-df-container {\n",
              "      display:flex;\n",
              "      flex-wrap:wrap;\n",
              "      gap: 12px;\n",
              "    }\n",
              "\n",
              "    .colab-df-convert {\n",
              "      background-color: #E8F0FE;\n",
              "      border: none;\n",
              "      border-radius: 50%;\n",
              "      cursor: pointer;\n",
              "      display: none;\n",
              "      fill: #1967D2;\n",
              "      height: 32px;\n",
              "      padding: 0 0 0 0;\n",
              "      width: 32px;\n",
              "    }\n",
              "\n",
              "    .colab-df-convert:hover {\n",
              "      background-color: #E2EBFA;\n",
              "      box-shadow: 0px 1px 2px rgba(60, 64, 67, 0.3), 0px 1px 3px 1px rgba(60, 64, 67, 0.15);\n",
              "      fill: #174EA6;\n",
              "    }\n",
              "\n",
              "    [theme=dark] .colab-df-convert {\n",
              "      background-color: #3B4455;\n",
              "      fill: #D2E3FC;\n",
              "    }\n",
              "\n",
              "    [theme=dark] .colab-df-convert:hover {\n",
              "      background-color: #434B5C;\n",
              "      box-shadow: 0px 1px 3px 1px rgba(0, 0, 0, 0.15);\n",
              "      filter: drop-shadow(0px 1px 2px rgba(0, 0, 0, 0.3));\n",
              "      fill: #FFFFFF;\n",
              "    }\n",
              "  </style>\n",
              "\n",
              "      <script>\n",
              "        const buttonEl =\n",
              "          document.querySelector('#df-c1f14918-b54a-409e-a0bd-21cc2fc7e6b2 button.colab-df-convert');\n",
              "        buttonEl.style.display =\n",
              "          google.colab.kernel.accessAllowed ? 'block' : 'none';\n",
              "\n",
              "        async function convertToInteractive(key) {\n",
              "          const element = document.querySelector('#df-c1f14918-b54a-409e-a0bd-21cc2fc7e6b2');\n",
              "          const dataTable =\n",
              "            await google.colab.kernel.invokeFunction('convertToInteractive',\n",
              "                                                     [key], {});\n",
              "          if (!dataTable) return;\n",
              "\n",
              "          const docLinkHtml = 'Like what you see? Visit the ' +\n",
              "            '<a target=\"_blank\" href=https://colab.research.google.com/notebooks/data_table.ipynb>data table notebook</a>'\n",
              "            + ' to learn more about interactive tables.';\n",
              "          element.innerHTML = '';\n",
              "          dataTable['output_type'] = 'display_data';\n",
              "          await google.colab.output.renderOutput(dataTable, element);\n",
              "          const docLink = document.createElement('div');\n",
              "          docLink.innerHTML = docLinkHtml;\n",
              "          element.appendChild(docLink);\n",
              "        }\n",
              "      </script>\n",
              "    </div>\n",
              "  </div>\n",
              "  "
            ]
          },
          "metadata": {},
          "execution_count": 9
        }
      ]
    },
    {
      "cell_type": "code",
      "source": [
        "# Find the columns with missing values\n",
        "null_cols = rf_df.columns[rf_df.isnull().sum() > 0]\n",
        "\n",
        "# Print the columns with missing values\n",
        "print(\"Columns with missing values:\", null_cols)"
      ],
      "metadata": {
        "colab": {
          "base_uri": "https://localhost:8080/"
        },
        "id": "8G-ugw1dhfJI",
        "outputId": "794ead20-6d72-4ff0-847b-55e68a5a0baf"
      },
      "execution_count": null,
      "outputs": [
        {
          "output_type": "stream",
          "name": "stdout",
          "text": [
            "Columns with missing values: Index([], dtype='object')\n"
          ]
        }
      ]
    },
    {
      "cell_type": "code",
      "source": [
        "rf_df = rf_df.reset_index(drop=True)\n"
      ],
      "metadata": {
        "id": "Y9oRW5vJhvFn"
      },
      "execution_count": null,
      "outputs": []
    },
    {
      "cell_type": "code",
      "source": [
        "# Locate rows with missing values in the INCOME_AMT column\n",
        "missing_income = df[df['INCOME_AMT'].isnull()]\n",
        "\n",
        "# Print the rows with missing values in the INCOME_AMT column\n",
        "# print(\"Rows with missing values in the INCOME_AMT column:\")\n",
        "# print(missing_income)\n",
        "# Find rows with NaN values\n",
        "nan_rows = df[df.isna().any(axis=1)]\n",
        "\n",
        "# Print the NaN rows\n",
        "print(len(nan_rows))\n"
      ],
      "metadata": {
        "colab": {
          "base_uri": "https://localhost:8080/"
        },
        "id": "Cw93pfLsjkdm",
        "outputId": "495b3a92-7ec9-4f0a-ad08-7216a26d7351"
      },
      "execution_count": null,
      "outputs": [
        {
          "output_type": "stream",
          "name": "stdout",
          "text": [
            "0\n"
          ]
        }
      ]
    },
    {
      "cell_type": "code",
      "source": [
        "import seaborn as sns\n",
        "import matplotlib.pyplot as plt\n",
        "\n",
        "# Calculate the correlation matrix\n",
        "corr_matrix = rf_df.corr()\n",
        "\n",
        "# Plot the correlation matrix as a heatmap\n",
        "sns.heatmap(corr_matrix, cmap=\"YlGnBu\")\n",
        "plt.show()\n",
        "\n",
        "# Get the absolute correlation values for the target variable\n",
        "corr_values = corr_matrix[\"IS_SUCCESSFUL\"].abs().sort_values(ascending=False)\n",
        "\n",
        "# Select the top features with highest correlation\n",
        "top_features = corr_values[corr_values > 0.1].index.tolist()\n",
        "df_selected = rf_df[top_features]\n",
        "\n",
        "# Print the selected features\n",
        "print(\"Selected Features:\")\n",
        "print(df_selected.columns.tolist())\n"
      ],
      "metadata": {
        "colab": {
          "base_uri": "https://localhost:8080/",
          "height": 526
        },
        "id": "XCAgxfsCUuiF",
        "outputId": "a417d775-b0a2-4bf9-99c8-a1b2fd9c6f97"
      },
      "execution_count": null,
      "outputs": [
        {
          "output_type": "stream",
          "name": "stderr",
          "text": [
            "<ipython-input-27-828351d37143>:5: FutureWarning: The default value of numeric_only in DataFrame.corr is deprecated. In a future version, it will default to False. Select only valid columns or specify the value of numeric_only to silence this warning.\n",
            "  corr_matrix = rf_df.corr()\n"
          ]
        },
        {
          "output_type": "display_data",
          "data": {
            "text/plain": [
              "<Figure size 640x480 with 2 Axes>"
            ],
            "image/png": "[encoded data removed]"
          },
          "metadata": {}
        },
        {
          "output_type": "stream",
          "name": "stdout",
          "text": [
            "Selected Features:\n",
            "['IS_SUCCESSFUL']\n"
          ]
        }
      ]
    },
    {
      "cell_type": "code",
      "source": [
        "# drop rows that contain NaN values\n",
        "clean_df = rf_df.dropna()\n",
        "\n",
        "# select only the columns that you want to use as features\n",
        "feature_cols = ['INCOME_AMT']\n",
        "X = clean_df[feature_cols]\n",
        "\n",
        "# print the shape of the feature matrix\n",
        "print(X.shape)"
      ],
      "metadata": {
        "colab": {
          "base_uri": "https://localhost:8080/"
        },
        "id": "hvVk1wdmhBw1",
        "outputId": "c26bb7bf-b465-4e6c-f78d-41acce6af491"
      },
      "execution_count": null,
      "outputs": [
        {
          "output_type": "stream",
          "name": "stdout",
          "text": [
            "(34299, 1)\n"
          ]
        }
      ]
    },
    {
      "cell_type": "code",
      "source": [
        "from sklearn.preprocessing import MinMaxScaler\n",
        "\n",
        "# create a MinMaxScaler object\n",
        "scaler = MinMaxScaler()\n",
        "\n",
        "# fit the scaler to the training data and transform the data\n",
        "X_train_scaled = scaler.fit_transform(X_train)\n",
        "\n",
        "# transform the validation data using the scaler fitted to the training data\n",
        "X_val_scaled = scaler.transform(X_val)\n",
        "\n",
        "#creates a dense (fully connected) layer with 64 neurons/32/1 and a rectified linear unit (ReLU) activation function\n",
        "\n",
        "model = keras.Sequential([\n",
        "    layers.Dense(64, activation='relu', input_shape=[len(X_train.columns)]),\n",
        "    layers.Dropout(0.3), #dropout prevents overfitting\n",
        "    layers.Dense(32, activation='relu'),\n",
        "    layers.Dropout(0.2),\n",
        "    layers.Dense(1, activation='sigmoid')\n",
        "])\n",
        "\n",
        "model.compile(optimizer='adam', loss='binary_crossentropy', metrics=['accuracy'])\n",
        "\n",
        "history = model.fit(X_train_scaled, y_train, validation_data=(X_val_scaled, y_val), epochs=100, batch_size=32, callbacks=[keras.callbacks.EarlyStopping(patience=10)])\n",
        "\n"
      ],
      "metadata": {
        "colab": {
          "base_uri": "https://localhost:8080/"
        },
        "id": "nTgVYULnqPt_",
        "outputId": "22743b85-3e5f-44eb-d050-f32bc1e17a24"
      },
      "execution_count": null,
      "outputs": [
        {
          "output_type": "stream",
          "name": "stdout",
          "text": [
            "Epoch 1/100\n",
            "686/686 [==============================] - 3s 3ms/step - loss: nan - accuracy: 0.4663 - val_loss: nan - val_accuracy: 0.4749\n",
            "Epoch 2/100\n",
            "686/686 [==============================] - 2s 3ms/step - loss: nan - accuracy: 0.4663 - val_loss: nan - val_accuracy: 0.4749\n",
            "Epoch 3/100\n",
            "686/686 [==============================] - 2s 2ms/step - loss: nan - accuracy: 0.4663 - val_loss: nan - val_accuracy: 0.4749\n",
            "Epoch 4/100\n",
            "686/686 [==============================] - 2s 3ms/step - loss: nan - accuracy: 0.4663 - val_loss: nan - val_accuracy: 0.4749\n",
            "Epoch 5/100\n",
            "686/686 [==============================] - 3s 4ms/step - loss: nan - accuracy: 0.4663 - val_loss: nan - val_accuracy: 0.4749\n",
            "Epoch 6/100\n",
            "686/686 [==============================] - 2s 2ms/step - loss: nan - accuracy: 0.4663 - val_loss: nan - val_accuracy: 0.4749\n",
            "Epoch 7/100\n",
            "686/686 [==============================] - 2s 2ms/step - loss: nan - accuracy: 0.4663 - val_loss: nan - val_accuracy: 0.4749\n",
            "Epoch 8/100\n",
            "686/686 [==============================] - 2s 3ms/step - loss: nan - accuracy: 0.4663 - val_loss: nan - val_accuracy: 0.4749\n",
            "Epoch 9/100\n",
            "686/686 [==============================] - 2s 3ms/step - loss: nan - accuracy: 0.4663 - val_loss: nan - val_accuracy: 0.4749\n",
            "Epoch 10/100\n",
            "686/686 [==============================] - 2s 2ms/step - loss: nan - accuracy: 0.4663 - val_loss: nan - val_accuracy: 0.4749\n"
          ]
        }
      ]
    }
  ]
}